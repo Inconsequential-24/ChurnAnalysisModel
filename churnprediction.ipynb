{
  "nbformat": 4,
  "nbformat_minor": 0,
  "metadata": {
    "colab": {
      "provenance": [],
      "authorship_tag": "ABX9TyNEgae4lCG+6GK8b8NXvQkj",
      "include_colab_link": true
    },
    "kernelspec": {
      "name": "python3",
      "display_name": "Python 3"
    },
    "language_info": {
      "name": "python"
    }
  },
  "cells": [
    {
      "cell_type": "markdown",
      "metadata": {
        "id": "view-in-github",
        "colab_type": "text"
      },
      "source": [
        "<a href=\"https://colab.research.google.com/github/Inconsequential-24/ChurnAnalysisModel/blob/main/churnprediction.ipynb\" target=\"_parent\"><img src=\"https://colab.research.google.com/assets/colab-badge.svg\" alt=\"Open In Colab\"/></a>"
      ]
    },
    {
      "cell_type": "markdown",
      "source": [
        "Dataset: *[IBM Telco Customer Churn](https://docs.google.com/spreadsheets/d/1HLQg5FZwdUb0t8x95xYOErU1OmE5Qt4x/edit?usp=drive_link&ouid=104974693172930492982&rtpof=true&sd=true)*"
      ],
      "metadata": {
        "id": "h47x5PHTFRvv"
      }
    },
    {
      "cell_type": "code",
      "execution_count": null,
      "metadata": {
        "colab": {
          "base_uri": "https://localhost:8080/"
        },
        "id": "TB3gjPLdFKXX",
        "outputId": "4039750d-04b8-49ca-e1b2-8173723fc76c"
      },
      "outputs": [
        {
          "output_type": "stream",
          "name": "stdout",
          "text": [
            "Epoch 1/10\n",
            "141/141 [==============================] - 4s 7ms/step - loss: 0.2995 - accuracy: 0.8769 - val_loss: 0.1976 - val_accuracy: 0.9077\n",
            "Epoch 2/10\n",
            "141/141 [==============================] - 1s 5ms/step - loss: 0.2059 - accuracy: 0.9053 - val_loss: 0.1893 - val_accuracy: 0.9139\n",
            "Epoch 3/10\n",
            "141/141 [==============================] - 0s 3ms/step - loss: 0.2011 - accuracy: 0.9048 - val_loss: 0.1936 - val_accuracy: 0.9095\n",
            "Epoch 4/10\n",
            "141/141 [==============================] - 1s 4ms/step - loss: 0.1971 - accuracy: 0.9061 - val_loss: 0.1852 - val_accuracy: 0.9148\n",
            "Epoch 5/10\n",
            "141/141 [==============================] - 1s 5ms/step - loss: 0.1955 - accuracy: 0.9106 - val_loss: 0.1829 - val_accuracy: 0.9157\n",
            "Epoch 6/10\n",
            "141/141 [==============================] - 1s 4ms/step - loss: 0.1931 - accuracy: 0.9104 - val_loss: 0.1849 - val_accuracy: 0.9148\n",
            "Epoch 7/10\n",
            "141/141 [==============================] - 1s 4ms/step - loss: 0.1926 - accuracy: 0.9086 - val_loss: 0.1845 - val_accuracy: 0.9193\n",
            "Epoch 8/10\n",
            "141/141 [==============================] - 0s 3ms/step - loss: 0.1888 - accuracy: 0.9124 - val_loss: 0.1808 - val_accuracy: 0.9184\n",
            "Epoch 9/10\n",
            "141/141 [==============================] - 0s 3ms/step - loss: 0.1884 - accuracy: 0.9139 - val_loss: 0.1834 - val_accuracy: 0.9139\n",
            "Epoch 10/10\n",
            "141/141 [==============================] - 1s 4ms/step - loss: 0.1879 - accuracy: 0.9148 - val_loss: 0.1860 - val_accuracy: 0.9184\n",
            "Enter the number of tenure months: 10\n",
            "Enter the monthly charges: 5\n",
            "Enter the total charges: 50\n",
            "1/1 [==============================] - 0s 82ms/step\n",
            "Prediction: No Churn\n"
          ]
        }
      ],
      "source": [
        "import pandas as pd\n",
        "from sklearn.model_selection import train_test_split\n",
        "from sklearn.preprocessing import StandardScaler\n",
        "from tensorflow.keras.models import Sequential\n",
        "from tensorflow.keras.layers import Dense\n",
        "\n",
        "# Load the dataset from Excel file\n",
        "df = pd.read_excel('/content/Telco_customer_churn.xlsx')\n",
        "\n",
        "#print(df.columns)\n",
        "\n",
        "# Separate features and target variable\n",
        "X = df.drop(['Churn Value', 'Churn Label'], axis=1)\n",
        "y = df['Churn Value']\n",
        "\n",
        "# Split the data into training and test sets\n",
        "X_train, X_test, y_train, y_test = train_test_split(X, y, test_size=0.2, random_state=42)\n",
        "\n",
        "# Create copies of X_train and X_test to avoid SettingWithCopyWarning\n",
        "X_train_copy = X_train.copy()\n",
        "X_test_copy = X_test.copy()\n",
        "\n",
        "# Fill NaN values with 0 in the copies\n",
        "X_train_copy.fillna(0, inplace=True)\n",
        "X_test_copy.fillna(0, inplace=True)\n",
        "\n",
        "# Exclude non-numeric columns\n",
        "numeric_columns = X_train_copy.select_dtypes(include=['number']).columns\n",
        "X_train_numeric = X_train_copy[numeric_columns]\n",
        "X_test_numeric = X_test_copy[numeric_columns]\n",
        "\n",
        "# Standardize numeric features\n",
        "scaler = StandardScaler()\n",
        "X_train_scaled = scaler.fit_transform(X_train_numeric)\n",
        "X_test_scaled = scaler.transform(X_test_numeric)\n",
        "# Define the neural network architecture\n",
        "model = Sequential()\n",
        "model.add(Dense(100, input_dim=X_train_scaled.shape[1], activation='relu'))\n",
        "model.add(Dense(50, activation='relu'))\n",
        "model.add(Dense(1, activation='sigmoid'))\n",
        "\n",
        "# Compile the model\n",
        "model.compile(optimizer='adam', loss='binary_crossentropy', metrics=['accuracy'])\n",
        "\n",
        "# Train the model\n",
        "history = model.fit(X_train_scaled, y_train, epochs=50, batch_size=32, validation_split=0.2)\n",
        "\n",
        "\n",
        "def predict_churn(tenure_months, monthly_charges, total_charges):\n",
        "    # Create a DataFrame from user input\n",
        "    user_df = pd.DataFrame([[0] * len(X_train_numeric.columns)], columns=X_train_numeric.columns)\n",
        "    user_df['Tenure Months'] = tenure_months\n",
        "    user_df['Monthly Charges'] = monthly_charges\n",
        "\n",
        "    # Check if 'Total Charges' column is present in the training data\n",
        "    if 'Total Charges' in user_df.columns:\n",
        "        user_df['Total Charges'] = total_charges\n",
        "\n",
        "    # Standardize the user input\n",
        "    user_scaled = scaler.transform(user_df)\n",
        "    # Make predictions\n",
        "    prediction = model.predict(user_scaled)[0][0]\n",
        "    # Convert prediction to binary value\n",
        "    churn_prediction = \"Churn\" if prediction > 0.5 else \"No Churn\"\n",
        "    return churn_prediction\n",
        "\n",
        "# Get user input\n",
        "tenure_months = float(input(\"Enter the number of tenure months: \"))\n",
        "monthly_charges = float(input(\"Enter the monthly charges: \"))\n",
        "total_charges = float(input(\"Enter the total charges: \"))\n",
        "\n",
        "# Predict churn based on user input\n",
        "prediction = predict_churn(tenure_months, monthly_charges, total_charges)\n",
        "print(\"Prediction:\", prediction)\n"
      ]
    }
  ]
}